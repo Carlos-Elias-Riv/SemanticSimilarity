{
 "cells": [
  {
   "cell_type": "code",
   "outputs": [],
   "source": [
    "import warnings\n",
    "warnings.filterwarnings('ignore')"
   ],
   "metadata": {
    "collapsed": false,
    "ExecuteTime": {
     "end_time": "2024-04-18T21:07:49.730081Z",
     "start_time": "2024-04-18T21:07:49.726807Z"
    }
   },
   "id": "b5ac2f211230ecc4",
   "execution_count": 296
  },
  {
   "cell_type": "code",
   "outputs": [],
   "source": [
    "import pandas as pd\n",
    "import json"
   ],
   "metadata": {
    "collapsed": false,
    "ExecuteTime": {
     "end_time": "2024-04-18T21:07:49.778494Z",
     "start_time": "2024-04-18T21:07:49.774985Z"
    }
   },
   "id": "50959fbb599d20ab",
   "execution_count": 297
  },
  {
   "cell_type": "markdown",
   "source": [
    "# Data loading and preprocessing"
   ],
   "metadata": {
    "collapsed": false
   },
   "id": "273f54ebd5a38201"
  },
  {
   "cell_type": "code",
   "execution_count": 298,
   "id": "initial_id",
   "metadata": {
    "collapsed": true,
    "ExecuteTime": {
     "end_time": "2024-04-18T21:07:49.817101Z",
     "start_time": "2024-04-18T21:07:49.813424Z"
    }
   },
   "outputs": [],
   "source": [
    "sts_columns_ix = [4, 5, 6]\n",
    "sts_columns = ['similarity', 'Sentence1', 'Sentence2']\n",
    "msr_columns = ['#1 String', '#2 String', 'Quality']\n",
    "qqp_columns = ['question1', 'question2', 'is_duplicate']"
   ]
  },
  {
   "cell_type": "markdown",
   "source": [],
   "metadata": {
    "collapsed": false
   },
   "id": "307c956e9c31857b"
  },
  {
   "cell_type": "code",
   "outputs": [],
   "source": [
    "sts_train = pd.read_csv('sts-train.csv', sep=\"\\t\", header=None, names=sts_columns, usecols=sts_columns_ix)\n",
    "sts_test = pd.read_csv('sts-test.csv', sep=\"\\t\", header=None, names=sts_columns, usecols=sts_columns_ix)\n",
    "msr_train = pd.read_csv('msr_paraphrase_train.csv', sep='\\t', usecols=msr_columns)\n",
    "msr_test = pd.read_csv('msr_paraphrase_test.csv', sep='\\t', usecols=msr_columns)\n",
    "qqp_train = pd.read_csv('qqp-train.tsv', sep='\\t', usecols=qqp_columns)\n",
    "qqp_test = pd.read_csv('qqp-test.tsv', sep='\\t', usecols=qqp_columns)"
   ],
   "metadata": {
    "collapsed": false,
    "ExecuteTime": {
     "end_time": "2024-04-19T14:09:01.103465Z",
     "start_time": "2024-04-19T14:08:59.270200Z"
    }
   },
   "id": "debaa70e22fdb16",
   "execution_count": 319
  },
  {
   "cell_type": "markdown",
   "source": [
    "## STS preprocess"
   ],
   "metadata": {
    "collapsed": false
   },
   "id": "e7746c5f1011e7e7"
  },
  {
   "cell_type": "code",
   "outputs": [],
   "source": [
    "sts_train['similar'] = (sts_train['similarity'] >= 3.0).astype(int).astype(str)\n",
    "sts_test['similar'] = (sts_test['similarity'] >= 3.0).astype(int).astype(str)"
   ],
   "metadata": {
    "collapsed": false,
    "ExecuteTime": {
     "end_time": "2024-04-18T21:07:50.889943Z",
     "start_time": "2024-04-18T21:07:50.880418Z"
    }
   },
   "id": "2a912902c68356a4",
   "execution_count": 300
  },
  {
   "cell_type": "code",
   "outputs": [],
   "source": [
    "sts_train = sts_train.dropna()\n",
    "sts_test = sts_test.dropna()"
   ],
   "metadata": {
    "collapsed": false,
    "ExecuteTime": {
     "end_time": "2024-04-18T21:07:50.906180Z",
     "start_time": "2024-04-18T21:07:50.891980Z"
    }
   },
   "id": "5993fafeac620162",
   "execution_count": 301
  },
  {
   "cell_type": "markdown",
   "source": [
    "## MSR preprocess"
   ],
   "metadata": {
    "collapsed": false
   },
   "id": "a1313871983fb9c3"
  },
  {
   "cell_type": "code",
   "outputs": [],
   "source": [
    "msr_train = msr_train.rename(columns={'#1 String': 'Sentence1', '#2 String': 'Sentence2', 'Quality': 'similar'})\n",
    "msr_test = msr_test.rename(columns={'#1 String': 'Sentence1', '#2 String': 'Sentence2', 'Quality': 'similar'})"
   ],
   "metadata": {
    "collapsed": false,
    "ExecuteTime": {
     "end_time": "2024-04-18T21:07:50.916805Z",
     "start_time": "2024-04-18T21:07:50.909094Z"
    }
   },
   "id": "e49b5bd71a6b174d",
   "execution_count": 302
  },
  {
   "cell_type": "code",
   "outputs": [],
   "source": [
    "msr_train['similar'] = msr_train['similar'].astype(str)\n",
    "msr_test['similar'] = msr_test['similar'].astype(str)"
   ],
   "metadata": {
    "collapsed": false,
    "ExecuteTime": {
     "end_time": "2024-04-18T21:07:50.931313Z",
     "start_time": "2024-04-18T21:07:50.918976Z"
    }
   },
   "id": "b9cd12dcf1f6ae5f",
   "execution_count": 303
  },
  {
   "cell_type": "code",
   "outputs": [],
   "source": [
    "msr_train = msr_train.dropna()\n",
    "msr_test = msr_test.dropna()\n",
    "msr_train = msr_train[~msr_train['Sentence2'].str.contains('\\t')]\n",
    "msr_test = msr_test[~msr_test['Sentence1'].str.contains('\\t')]"
   ],
   "metadata": {
    "collapsed": false,
    "ExecuteTime": {
     "end_time": "2024-04-18T21:07:50.950136Z",
     "start_time": "2024-04-18T21:07:50.933605Z"
    }
   },
   "id": "6868377d6adfb411",
   "execution_count": 304
  },
  {
   "cell_type": "markdown",
   "source": [
    "## QQP preprocess"
   ],
   "metadata": {
    "collapsed": false
   },
   "id": "5dd339a8e9db9eb5"
  },
  {
   "cell_type": "code",
   "outputs": [],
   "source": [
    "qqp_train = qqp_train.rename(columns={'question1': 'Sentence1', 'question2': 'Sentence2', 'is_duplicate': 'similar'})\n",
    "qqp_test = qqp_test.rename(columns={'question1': 'Sentence1', 'question2': 'Sentence2', 'is_duplicate': 'similar'})"
   ],
   "metadata": {
    "collapsed": false,
    "ExecuteTime": {
     "end_time": "2024-04-18T21:07:50.986054Z",
     "start_time": "2024-04-18T21:07:50.952261Z"
    }
   },
   "id": "a4fe27870d63f1ef",
   "execution_count": 305
  },
  {
   "cell_type": "code",
   "outputs": [],
   "source": [
    "qqp_train = qqp_train.groupby('similar', group_keys=False).apply(lambda x: x.sample(2500))\n",
    "qqp_test = qqp_test.groupby('similar', group_keys=False).apply(lambda x: x.sample(500))"
   ],
   "metadata": {
    "collapsed": false,
    "ExecuteTime": {
     "end_time": "2024-04-18T21:07:51.093014Z",
     "start_time": "2024-04-18T21:07:50.987933Z"
    }
   },
   "id": "62c64cb287896d4a",
   "execution_count": 306
  },
  {
   "cell_type": "code",
   "outputs": [],
   "source": [
    "qqp_train = qqp_train.sample(frac=1)\n",
    "qqp_test = qqp_test.sample(frac=1)"
   ],
   "metadata": {
    "collapsed": false,
    "ExecuteTime": {
     "end_time": "2024-04-18T21:07:51.100519Z",
     "start_time": "2024-04-18T21:07:51.095036Z"
    }
   },
   "id": "8efc94493816719a",
   "execution_count": 307
  },
  {
   "cell_type": "code",
   "outputs": [],
   "source": [
    "qqp_train = qqp_train.drop_duplicates()\n",
    "qqp_test = qqp_test.drop_duplicates()"
   ],
   "metadata": {
    "collapsed": false,
    "ExecuteTime": {
     "end_time": "2024-04-18T21:07:51.117937Z",
     "start_time": "2024-04-18T21:07:51.104383Z"
    }
   },
   "id": "37ac4b910541c67e",
   "execution_count": 308
  },
  {
   "cell_type": "code",
   "outputs": [],
   "source": [
    "qqp_train_test_merge = qqp_train.merge(qqp_test, how='inner', indicator=True)\n",
    "qqp_test = qqp_test.drop(qqp_train_test_merge.index)"
   ],
   "metadata": {
    "collapsed": false,
    "ExecuteTime": {
     "end_time": "2024-04-18T21:07:51.138147Z",
     "start_time": "2024-04-18T21:07:51.120283Z"
    }
   },
   "id": "d2300ced6263632a",
   "execution_count": 309
  },
  {
   "cell_type": "code",
   "outputs": [],
   "source": [
    "qqp_train['similar'] = qqp_train['similar'].astype(str)\n",
    "qqp_test['similar'] = qqp_test['similar'].astype(str)"
   ],
   "metadata": {
    "collapsed": false,
    "ExecuteTime": {
     "end_time": "2024-04-18T21:07:51.145205Z",
     "start_time": "2024-04-18T21:07:51.139891Z"
    }
   },
   "id": "b9f48e04de0e1915",
   "execution_count": 310
  },
  {
   "cell_type": "markdown",
   "source": [
    "## Visualize resulting datasets"
   ],
   "metadata": {
    "collapsed": false
   },
   "id": "3560c862da1ae690"
  },
  {
   "cell_type": "code",
   "outputs": [
    {
     "data": {
      "text/plain": "      similarity                                          Sentence1  \\\n0            2.5                        A girl is styling her hair.   \n1            3.6           A group of men play soccer on the beach.   \n2            5.0      One woman is measuring another woman's ankle.   \n3            4.2                    A man is cutting up a cucumber.   \n4            1.5                           A man is playing a harp.   \n...          ...                                                ...   \n1374         0.0  Philippines, Canada pledge to further boost re...   \n1375         1.0  Israel bars Palestinians from Jerusalem's Old ...   \n1376         1.0         How much do you know about Secret Service?   \n1377         0.0  Obama Struggles to Soothe Saudi Fears As Iran ...   \n1378         0.0          South Korea declares end to MERS outbreak   \n\n                                              Sentence2 similar  \n0                          A girl is brushing her hair.       0  \n1      A group of boys are playing soccer on the beach.       1  \n2               A woman measures another woman's ankle.       1  \n3                          A man is slicing a cucumber.       1  \n4                          A man is playing a keyboard.       0  \n...                                                 ...     ...  \n1374            Philippines saves 100 after ferry sinks       0  \n1375  Two-state solution between Palestinians, Israe...       0  \n1376  Lawmakers from both sides express outrage at S...       0  \n1377  Myanmar Struggles to Finalize Voter Lists for ...       0  \n1378  North Korea Delegation Meets With South Korean...       0  \n\n[1375 rows x 4 columns]",
      "text/html": "<div>\n<style scoped>\n    .dataframe tbody tr th:only-of-type {\n        vertical-align: middle;\n    }\n\n    .dataframe tbody tr th {\n        vertical-align: top;\n    }\n\n    .dataframe thead th {\n        text-align: right;\n    }\n</style>\n<table border=\"1\" class=\"dataframe\">\n  <thead>\n    <tr style=\"text-align: right;\">\n      <th></th>\n      <th>similarity</th>\n      <th>Sentence1</th>\n      <th>Sentence2</th>\n      <th>similar</th>\n    </tr>\n  </thead>\n  <tbody>\n    <tr>\n      <th>0</th>\n      <td>2.5</td>\n      <td>A girl is styling her hair.</td>\n      <td>A girl is brushing her hair.</td>\n      <td>0</td>\n    </tr>\n    <tr>\n      <th>1</th>\n      <td>3.6</td>\n      <td>A group of men play soccer on the beach.</td>\n      <td>A group of boys are playing soccer on the beach.</td>\n      <td>1</td>\n    </tr>\n    <tr>\n      <th>2</th>\n      <td>5.0</td>\n      <td>One woman is measuring another woman's ankle.</td>\n      <td>A woman measures another woman's ankle.</td>\n      <td>1</td>\n    </tr>\n    <tr>\n      <th>3</th>\n      <td>4.2</td>\n      <td>A man is cutting up a cucumber.</td>\n      <td>A man is slicing a cucumber.</td>\n      <td>1</td>\n    </tr>\n    <tr>\n      <th>4</th>\n      <td>1.5</td>\n      <td>A man is playing a harp.</td>\n      <td>A man is playing a keyboard.</td>\n      <td>0</td>\n    </tr>\n    <tr>\n      <th>...</th>\n      <td>...</td>\n      <td>...</td>\n      <td>...</td>\n      <td>...</td>\n    </tr>\n    <tr>\n      <th>1374</th>\n      <td>0.0</td>\n      <td>Philippines, Canada pledge to further boost re...</td>\n      <td>Philippines saves 100 after ferry sinks</td>\n      <td>0</td>\n    </tr>\n    <tr>\n      <th>1375</th>\n      <td>1.0</td>\n      <td>Israel bars Palestinians from Jerusalem's Old ...</td>\n      <td>Two-state solution between Palestinians, Israe...</td>\n      <td>0</td>\n    </tr>\n    <tr>\n      <th>1376</th>\n      <td>1.0</td>\n      <td>How much do you know about Secret Service?</td>\n      <td>Lawmakers from both sides express outrage at S...</td>\n      <td>0</td>\n    </tr>\n    <tr>\n      <th>1377</th>\n      <td>0.0</td>\n      <td>Obama Struggles to Soothe Saudi Fears As Iran ...</td>\n      <td>Myanmar Struggles to Finalize Voter Lists for ...</td>\n      <td>0</td>\n    </tr>\n    <tr>\n      <th>1378</th>\n      <td>0.0</td>\n      <td>South Korea declares end to MERS outbreak</td>\n      <td>North Korea Delegation Meets With South Korean...</td>\n      <td>0</td>\n    </tr>\n  </tbody>\n</table>\n<p>1375 rows × 4 columns</p>\n</div>"
     },
     "execution_count": 311,
     "metadata": {},
     "output_type": "execute_result"
    }
   ],
   "source": [
    "sts_test"
   ],
   "metadata": {
    "collapsed": false,
    "ExecuteTime": {
     "end_time": "2024-04-18T21:07:51.163852Z",
     "start_time": "2024-04-18T21:07:51.147016Z"
    }
   },
   "id": "e6f1a00fa89645e2",
   "execution_count": 311
  },
  {
   "cell_type": "code",
   "outputs": [
    {
     "data": {
      "text/plain": "     similar                                          Sentence1  \\\n0          1  PCCW's chief operating officer, Mike Butcher, ...   \n1          1  The world's two largest automakers said their ...   \n2          1  According to the federal Centers for Disease C...   \n3          0  A tropical storm rapidly developed in the Gulf...   \n4          0  The company didn't detail the costs of the rep...   \n...      ...                                                ...   \n1690       0  After Hughes refused to rehire Hernandez, he c...   \n1691       0  There are 103 Democrats in the Assembly and 47...   \n1692       0  Bethany Hamilton remained in stable condition ...   \n1693       1  Last week the power station’s US owners, AES C...   \n1694       1  Sobig.F spreads when unsuspecting computer use...   \n\n                                              Sentence2  \n0     Current Chief Operating Officer Mike Butcher a...  \n1     Domestic sales at both GM and No. 2 Ford Motor...  \n2     The Centers for Disease Control and Prevention...  \n3     A tropical storm rapidly developed in the Gulf...  \n4     But company officials expect the costs of the ...  \n...                                                 ...  \n1690  Hernandez filed an Equal Employment Opportunit...  \n1691  Democrats dominate the Assembly while Republic...  \n1692  Bethany, who remained in stable condition afte...  \n1693  The news comes after Drax's American owner, AE...  \n1694  The virus spreads when unsuspecting computer u...  \n\n[1660 rows x 3 columns]",
      "text/html": "<div>\n<style scoped>\n    .dataframe tbody tr th:only-of-type {\n        vertical-align: middle;\n    }\n\n    .dataframe tbody tr th {\n        vertical-align: top;\n    }\n\n    .dataframe thead th {\n        text-align: right;\n    }\n</style>\n<table border=\"1\" class=\"dataframe\">\n  <thead>\n    <tr style=\"text-align: right;\">\n      <th></th>\n      <th>similar</th>\n      <th>Sentence1</th>\n      <th>Sentence2</th>\n    </tr>\n  </thead>\n  <tbody>\n    <tr>\n      <th>0</th>\n      <td>1</td>\n      <td>PCCW's chief operating officer, Mike Butcher, ...</td>\n      <td>Current Chief Operating Officer Mike Butcher a...</td>\n    </tr>\n    <tr>\n      <th>1</th>\n      <td>1</td>\n      <td>The world's two largest automakers said their ...</td>\n      <td>Domestic sales at both GM and No. 2 Ford Motor...</td>\n    </tr>\n    <tr>\n      <th>2</th>\n      <td>1</td>\n      <td>According to the federal Centers for Disease C...</td>\n      <td>The Centers for Disease Control and Prevention...</td>\n    </tr>\n    <tr>\n      <th>3</th>\n      <td>0</td>\n      <td>A tropical storm rapidly developed in the Gulf...</td>\n      <td>A tropical storm rapidly developed in the Gulf...</td>\n    </tr>\n    <tr>\n      <th>4</th>\n      <td>0</td>\n      <td>The company didn't detail the costs of the rep...</td>\n      <td>But company officials expect the costs of the ...</td>\n    </tr>\n    <tr>\n      <th>...</th>\n      <td>...</td>\n      <td>...</td>\n      <td>...</td>\n    </tr>\n    <tr>\n      <th>1690</th>\n      <td>0</td>\n      <td>After Hughes refused to rehire Hernandez, he c...</td>\n      <td>Hernandez filed an Equal Employment Opportunit...</td>\n    </tr>\n    <tr>\n      <th>1691</th>\n      <td>0</td>\n      <td>There are 103 Democrats in the Assembly and 47...</td>\n      <td>Democrats dominate the Assembly while Republic...</td>\n    </tr>\n    <tr>\n      <th>1692</th>\n      <td>0</td>\n      <td>Bethany Hamilton remained in stable condition ...</td>\n      <td>Bethany, who remained in stable condition afte...</td>\n    </tr>\n    <tr>\n      <th>1693</th>\n      <td>1</td>\n      <td>Last week the power station’s US owners, AES C...</td>\n      <td>The news comes after Drax's American owner, AE...</td>\n    </tr>\n    <tr>\n      <th>1694</th>\n      <td>1</td>\n      <td>Sobig.F spreads when unsuspecting computer use...</td>\n      <td>The virus spreads when unsuspecting computer u...</td>\n    </tr>\n  </tbody>\n</table>\n<p>1660 rows × 3 columns</p>\n</div>"
     },
     "execution_count": 312,
     "metadata": {},
     "output_type": "execute_result"
    }
   ],
   "source": [
    "msr_test"
   ],
   "metadata": {
    "collapsed": false,
    "ExecuteTime": {
     "end_time": "2024-04-18T21:07:51.178861Z",
     "start_time": "2024-04-18T21:07:51.165486Z"
    }
   },
   "id": "a98afe5cfcd3b9b3",
   "execution_count": 312
  },
  {
   "cell_type": "code",
   "outputs": [
    {
     "data": {
      "text/plain": "                                               Sentence1  \\\n35241  How can I build a website after registering a ...   \n16740  What is meant by scale and intensity of turbul...   \n8065              What would a US vs Russia war be like?   \n35766  What are some abiotic and biotic factors? What...   \n19835  What are some good yoga techniques for weight ...   \n...                                                  ...   \n12812                       What is the proudest moment?   \n10558   What are some good ways to get rid of belly fat?   \n17699                Is Hillary Clinton a habitual liar?   \n19404  Does Greek mythology need to be capitalized? Why?   \n2426     How can I add a question with picture on Quora?   \n\n                                               Sentence2 similar  \n35241  Do you think I can build something from a doma...       0  \n16740  What modules should I gradually learn and prac...       0  \n8065   How would a war between Russia and the US look...       1  \n35766  What are examples of biotic and abiotic compon...       1  \n19835          What are the yoga asanas for weight loss?       1  \n...                                                  ...     ...  \n12812                      What is your proudest moment?       1  \n10558  I've gained belly through years of inactivity ...       1  \n17699        Why is Hillary Clinton a pathological liar?       1  \n19404                   Why is the word \"I\" capitalized?       0  \n2426                       How do I add images in Quora?       1  \n\n[1000 rows x 3 columns]",
      "text/html": "<div>\n<style scoped>\n    .dataframe tbody tr th:only-of-type {\n        vertical-align: middle;\n    }\n\n    .dataframe tbody tr th {\n        vertical-align: top;\n    }\n\n    .dataframe thead th {\n        text-align: right;\n    }\n</style>\n<table border=\"1\" class=\"dataframe\">\n  <thead>\n    <tr style=\"text-align: right;\">\n      <th></th>\n      <th>Sentence1</th>\n      <th>Sentence2</th>\n      <th>similar</th>\n    </tr>\n  </thead>\n  <tbody>\n    <tr>\n      <th>35241</th>\n      <td>How can I build a website after registering a ...</td>\n      <td>Do you think I can build something from a doma...</td>\n      <td>0</td>\n    </tr>\n    <tr>\n      <th>16740</th>\n      <td>What is meant by scale and intensity of turbul...</td>\n      <td>What modules should I gradually learn and prac...</td>\n      <td>0</td>\n    </tr>\n    <tr>\n      <th>8065</th>\n      <td>What would a US vs Russia war be like?</td>\n      <td>How would a war between Russia and the US look...</td>\n      <td>1</td>\n    </tr>\n    <tr>\n      <th>35766</th>\n      <td>What are some abiotic and biotic factors? What...</td>\n      <td>What are examples of biotic and abiotic compon...</td>\n      <td>1</td>\n    </tr>\n    <tr>\n      <th>19835</th>\n      <td>What are some good yoga techniques for weight ...</td>\n      <td>What are the yoga asanas for weight loss?</td>\n      <td>1</td>\n    </tr>\n    <tr>\n      <th>...</th>\n      <td>...</td>\n      <td>...</td>\n      <td>...</td>\n    </tr>\n    <tr>\n      <th>12812</th>\n      <td>What is the proudest moment?</td>\n      <td>What is your proudest moment?</td>\n      <td>1</td>\n    </tr>\n    <tr>\n      <th>10558</th>\n      <td>What are some good ways to get rid of belly fat?</td>\n      <td>I've gained belly through years of inactivity ...</td>\n      <td>1</td>\n    </tr>\n    <tr>\n      <th>17699</th>\n      <td>Is Hillary Clinton a habitual liar?</td>\n      <td>Why is Hillary Clinton a pathological liar?</td>\n      <td>1</td>\n    </tr>\n    <tr>\n      <th>19404</th>\n      <td>Does Greek mythology need to be capitalized? Why?</td>\n      <td>Why is the word \"I\" capitalized?</td>\n      <td>0</td>\n    </tr>\n    <tr>\n      <th>2426</th>\n      <td>How can I add a question with picture on Quora?</td>\n      <td>How do I add images in Quora?</td>\n      <td>1</td>\n    </tr>\n  </tbody>\n</table>\n<p>1000 rows × 3 columns</p>\n</div>"
     },
     "execution_count": 313,
     "metadata": {},
     "output_type": "execute_result"
    }
   ],
   "source": [
    "qqp_test"
   ],
   "metadata": {
    "collapsed": false,
    "ExecuteTime": {
     "end_time": "2024-04-18T21:07:51.193695Z",
     "start_time": "2024-04-18T21:07:51.181307Z"
    }
   },
   "id": "5b4e5f96de10b7f9",
   "execution_count": 313
  },
  {
   "cell_type": "markdown",
   "source": [
    "# Generate training data"
   ],
   "metadata": {
    "collapsed": false
   },
   "id": "de57ce2fd24dc7e1"
  },
  {
   "cell_type": "code",
   "outputs": [],
   "source": [
    "def gen_train(df):\n",
    "    return [\n",
    "        {\n",
    "            \"text\": f\"[INST] <<SYS>>\\nFor the given two sentences, classify them as semantically similar with 'yes' or 'no'\\n<</SYS>>\\n\\nSentence 1:{row['Sentence1']}\\nSentence 2:{row['Sentence2']}\\nAre they semantically similar?:\\n[/INST]Response:{'yes' if row['similar'] == '1' else 'no'}\", \n",
    "        }\n",
    "        for _, row in df.iterrows()\n",
    "    ]"
   ],
   "metadata": {
    "collapsed": false,
    "ExecuteTime": {
     "end_time": "2024-04-18T21:07:51.203659Z",
     "start_time": "2024-04-18T21:07:51.195388Z"
    }
   },
   "id": "c7129b956f5bbed3",
   "execution_count": 314
  },
  {
   "cell_type": "code",
   "outputs": [],
   "source": [
    "def to_jsonl(df, filename):\n",
    "    with open(f'{filename}.jsonl', 'w') as f:\n",
    "        for item in gen_train(df):\n",
    "            json.dump(item, f)\n",
    "            f.write('\\n')"
   ],
   "metadata": {
    "collapsed": false,
    "ExecuteTime": {
     "end_time": "2024-04-18T21:07:51.214310Z",
     "start_time": "2024-04-18T21:07:51.205523Z"
    }
   },
   "id": "ee30f9f5edffba13",
   "execution_count": 315
  },
  {
   "cell_type": "code",
   "outputs": [],
   "source": [
    "to_jsonl(sts_train, 'sts-train')\n",
    "to_jsonl(sts_test, 'sts-test')"
   ],
   "metadata": {
    "collapsed": false,
    "ExecuteTime": {
     "end_time": "2024-04-18T21:07:51.564232Z",
     "start_time": "2024-04-18T21:07:51.215932Z"
    }
   },
   "id": "f06759e1b5ef62b0",
   "execution_count": 316
  },
  {
   "cell_type": "code",
   "outputs": [],
   "source": [
    "to_jsonl(msr_train, 'msr-train')\n",
    "to_jsonl(msr_test, 'msr-test')"
   ],
   "metadata": {
    "collapsed": false,
    "ExecuteTime": {
     "end_time": "2024-04-18T21:07:51.862085Z",
     "start_time": "2024-04-18T21:07:51.566661Z"
    }
   },
   "id": "fe676943b39ccae1",
   "execution_count": 317
  },
  {
   "cell_type": "code",
   "outputs": [],
   "source": [
    "to_jsonl(qqp_train, 'qqp-train')\n",
    "to_jsonl(qqp_test, 'qqp-test')"
   ],
   "metadata": {
    "collapsed": false,
    "ExecuteTime": {
     "end_time": "2024-04-18T21:07:52.173410Z",
     "start_time": "2024-04-18T21:07:51.863835Z"
    }
   },
   "id": "1a95e462e013428b",
   "execution_count": 318
  }
 ],
 "metadata": {
  "kernelspec": {
   "display_name": "Python 3",
   "language": "python",
   "name": "python3"
  },
  "language_info": {
   "codemirror_mode": {
    "name": "ipython",
    "version": 2
   },
   "file_extension": ".py",
   "mimetype": "text/x-python",
   "name": "python",
   "nbconvert_exporter": "python",
   "pygments_lexer": "ipython2",
   "version": "2.7.6"
  }
 },
 "nbformat": 4,
 "nbformat_minor": 5
}
